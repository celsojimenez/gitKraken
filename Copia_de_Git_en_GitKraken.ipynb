{
  "nbformat": 4,
  "nbformat_minor": 0,
  "metadata": {
    "colab": {
      "name": "Copia de Git en GitKraken",
      "provenance": [],
      "collapsed_sections": [],
      "include_colab_link": true
    },
    "kernelspec": {
      "name": "python3",
      "display_name": "Python 3"
    }
  },
  "cells": [
    {
      "cell_type": "markdown",
      "metadata": {
        "id": "view-in-github",
        "colab_type": "text"
      },
      "source": [
        "<a href=\"https://colab.research.google.com/github/celsojimenez/gitKraken/blob/main/Copia_de_Git_en_GitKraken.ipynb\" target=\"_parent\"><img src=\"https://colab.research.google.com/assets/colab-badge.svg\" alt=\"Open In Colab\"/></a>"
      ]
    },
    {
      "cell_type": "markdown",
      "metadata": {
        "id": "s2cfBkmxya5Z"
      },
      "source": [
        "# Usando Git en GitKraken\n",
        "\n",
        "GitKraken IDE proporciona soporte para el [sistema de control de versiones de Git](https://git-scm.com/). Las funciones de Git del IDE le permiten realizar tareas de control de versiones directamente desde sus proyectos y en el código dentro del IDE.\n",
        "\n",
        "Este documento demuestra cómo realizar tareas de control de versiones en el IDE al guiarlo a través del flujo de trabajo estándar al usar Git."
      ]
    },
    {
      "cell_type": "markdown",
      "metadata": {
        "id": "bYoC1F4Hr5kL"
      },
      "source": [
        "## Iniciando sesión en GitKraken con GitHub\n",
        "Existen diferentes fofrmas de iniciar sesión con GitKraken. En nuestro caso, utilizaremos nuestra cuenta de GitHub para iniciar sesión.\n",
        "![Iniciando sesión con GitHub](https://raw.githubusercontent.com/ColaboraGIT/gitkraken/master/images/001_Iniciando_sesion.png)\n",
        "\n",
        "A continuación, se nos solicitará autorización para que GitKraken pueda acceder a nuestros repositorios de GitHub. \n",
        "![Autorizando acceso a GitHub](https://raw.githubusercontent.com/ColaboraGIT/gitkraken/master/images/002_AutorizandoAccesoGithub.png)\n",
        "\n",
        "Si manejamos organizaciones, nos permitirá elegir sobre qué organizaciones tendrá acceso GitKraken. En la imagen mostramos que hemos permitido el acceso a ColaboraGit. Al resto de organizaciones se les puede permitir dicho acceso pulsando sobre Grant.\n",
        "\n",
        "![Acceso autorizado a ColaboraGIT](https://raw.githubusercontent.com/ColaboraGIT/gitkraken/master/images/003_Autorizando_Organizaciones_GitHub.png)\n",
        "\n",
        "![Acceso autorizado a ColaboraGIT](https://raw.githubusercontent.com/ColaboraGIT/gitkraken/master/images/003_acceso_colaboragit.png)\n",
        "\n",
        "GitKraken nos ofrecerá planes de uso de la aplicación. Si deseamos seguir con la versión gratuita, seleccionaremos **Not now, thanks.**\n"
      ]
    },
    {
      "cell_type": "markdown",
      "metadata": {
        "id": "bU2BX995AhSX"
      },
      "source": [
        "# Creación de un proyecto local para pruebas\n",
        "\n",
        "Vamos a crear un proyecto local en GitKraken sobre el que trabajar. Para ello, como muestra la imagen, haremos click en  `Start a local repo`:\n",
        "\n",
        "![Proyecto Local](https://raw.githubusercontent.com/ColaboraGIT/gitkraken/master/images/004_StartLocalRepo.png)\n",
        "\n",
        "![Proyecto Local Configuración](https://raw.githubusercontent.com/ColaboraGIT/gitkraken/master/images/005_SelectLocalRepoSettings.png)\n",
        "\n",
        "Creará la carpeta local con el repositorio git creado y un archivo README.md, como se muestra en la imagen.\n",
        "\n",
        "![Proyecto Local Configuración](https://raw.githubusercontent.com/ColaboraGIT/gitkraken/master/images/006_PantallaInicialRepo.png)\n"
      ]
    },
    {
      "cell_type": "markdown",
      "metadata": {
        "id": "ZH1tZGjKyiCl"
      },
      "source": [
        "## Abrir un repositorio de Git existente.\n",
        "Para inicializar un repositorio de Git a partir de archivos existentes que aún no están en control de código fuente, debe completar los siguientes pasos:\n",
        "\n",
        "1. Creamos una nueva pestaña.\n",
        "\n",
        "2. Elegimos `Open a repo`.\n",
        "\n",
        "![Proyecto Local Configuración](https://raw.githubusercontent.com/ColaboraGIT/gitkraken/master/images/007_Open_Repo.png)\n",
        "\n",
        "3. Al especificar el directorio en el que se encuentra el repositorio, éste se nos visualiza en GitKraken."
      ]
    },
    {
      "cell_type": "markdown",
      "metadata": {
        "id": "U0XK_PvR1sjt"
      },
      "source": [
        "## Clonación de un repositorio de Git\n",
        "\n",
        "Para obtener una copia de un repositorio de Git ya existente, debe clonarlo. Asegúrese de conocer la URL del repositorio de Git antes de iniciar el asistente Clonar repositorio en el IDE.\n",
        "\n",
        "  1. Abrimos una nueva pestaña y seleccionamos `Clone a repo`\n",
        "\n",
        "  1. En la ventana de Clone, especifiquamos la carpeta de destino y la ruta a la ubicación del repositorio Git. \n",
        "![Clone Contingencia](https://raw.githubusercontent.com/ColaboraGIT/gitkraken/master/images/008_CloneRepo.png)\n",
        "\n",
        " "
      ]
    },
    {
      "cell_type": "markdown",
      "metadata": {
        "id": "CZi5BzJBg1DM"
      },
      "source": [
        "### <a name=\"add\">Agregar archivos a un repositorio de Git</a>\n",
        "\n",
        "Para comenzar a rastrear un nuevo archivo y también para realizar cambios en un archivo ya rastreado en el repositorio de Git, debe agregarlo al repositorio.\n",
        "\n",
        "Desde GitKraken podemos crear ficheros en el repositorio. Para ello, pulsamos con el botón derecho sobre el espacio vacío en el **panel de commit** y hacemos click en la opciñon`Create File`.\n",
        "\n",
        "![New File](https://support.gitkraken.com/img/documentation/working-with-files/adding-and-removing/create-file.png)\n",
        "\n",
        "Escribimos el nombre del fichero y aceptamos.\n",
        "![Escribir el nombre del fichero](https://support.gitkraken.com/img/documentation/working-with-files/adding-and-removing/create-file.gif)\n",
        "\n",
        "\n",
        "\n",
        "Al agregar archivos a un repositorio de Git, el IDE compone y guarda instantáneas de su proyecto primero en el índice. Después de realizar la confirmación, el IDE guarda esas instantáneas en HEAD.\n",
        "1. Tras editar el contenido, pulsaremos sobre el botón azul que aparece en la esquina superior derecha.\n",
        "![Save File](https://support.gitkraken.com/img/documentation/working-with-files/editing-files/pending-changes.png)\n",
        "2. Nos preguntará si queremos guardar los cambios.\n",
        "3. Como se trata ha modificado el archivo, al guardar, nos aparecerá entre los archivos del `Unstaged Files`\n"
      ]
    },
    {
      "cell_type": "markdown",
      "metadata": {
        "id": "tjVCqCP1Oulz"
      },
      "source": [
        "### Editar archivos\n",
        "\n",
        "Una vez que tenga un proyecto con versión de Git abierto en el IDE, puede comenzar a realizar cambios en las fuentes. Al igual que con cualquier proyecto abierto en GitKraken IDE, puede abrir archivos en el Editor de código fuente haciendo click sobre él, para que se abra en la pestaña del editor.\n",
        "\n",
        "Otra forma de editar un archivo es a través de `Fuzzy Finder`, el cual permite buscar acciones por su nombre.\n",
        "\n",
        "Si pulsamos `Ctrl + P` accedemos al `Fuzzy Finder`, desde el que podremos buscar la acción `Edit file` y, al elegir esta acción nos preguntará por el nombre del archivo a editar.\n",
        "![Edit File](https://support.gitkraken.com/img/documentation/working-with-files/editing-files/edit-file-fuzzy.gif)\n",
        "\n",
        "En la parte superior, podremos alternar entre la vista `File View` y la `Diff View`, que respectivamente nos ofrecerá el contenido del archivo o la diferencia entre el contenido actual y el contenido anterior.\n",
        "\n",
        "![Diff View](https://support.gitkraken.com/img/documentation/working-with-files/editing-files/edit-diff.png)"
      ]
    },
    {
      "cell_type": "markdown",
      "metadata": {
        "id": "E56mN-IsSrVV"
      },
      "source": [
        "### <a name=\"cambiosEditor\"></a>Visualización de cambios en el editor\n",
        "\n",
        "Los cambios producidos en un archivo, se pueden visualizar en el editor.\n",
        "Si lo que queremos es ver qué archivos han sido modificados desde la última confirmación, debemos acceder al `Commit Detail Panel`, al que podremos acceder desde el círculo `Work in Progress` que aparece en la parte superior del árbol del repositorio.\n",
        "\n",
        "![Work in progress](https://support.gitkraken.com/img/documentation/working-with-files/commits/WIP-stage.png)\n",
        "\n",
        "* **Naranja.** Indica ficheros que se han modificado.\n",
        "* **Verde.** Indica ficheros nuevos, que están sin seguimiento.\n",
        "* **Rojo.** Indica ficheros eliminados.\n",
        "\n",
        "\n"
      ]
    },
    {
      "cell_type": "markdown",
      "metadata": {
        "id": "J0hN_7DYQQlN"
      },
      "source": [
        "### <a name=\"reverting_changes\"></a>Revertir cambios\n",
        "\n",
        "Podemos extraer del `Staging area` archivos que, previamente hayamos preparado:\n",
        "\n",
        "![unstage](https://support.gitkraken.com/img/documentation/working-with-files/staging/unstage.png)\n",
        "\n",
        "También podemos deshacer cambios selectivos en el código, mostrando el archivo en la `Diff View`y pulsando sobre `Discard Hunk`.\n"
      ]
    },
    {
      "cell_type": "markdown",
      "metadata": {
        "id": "xG4VSByqQcge"
      },
      "source": [
        "## <a name=\"commit\">Confirmación de fuentes en un repositorio</a>\n",
        "\n",
        "Para enviar archivos al repositorio de Git:\n",
        "\n",
        "1. En la ventana ``Proyectos``, haga clic con el botón derecho en los archivos que desea confirmar.\n",
        "2. En el menú contextual, elija ``Git``> ``Commit``.\n",
        "\n",
        "Aparece el cuadro de diálogo ``Confirmar``.\n",
        "\n",
        "![](https://raw.githubusercontent.com/apache/netbeans-website/master/netbeans.apache.org/src/content/kb/docs/ide/images/commit-small.png)\n",
        "\n",
        "El cuadro de diálogo ``Confirmar`` contiene los siguientes componentes:\n",
        "\n",
        "* Área de texto ``Commit Message`` destinada a describir el cambio que se está cometiendo\n",
        "* Listas desplegables ``Author`` y ``Commiter`` que permiten diferenciar entre quienes realizaron el cambio y quienes cometieron físicamente el expediente si fuera necesario.\n",
        "* Sección ``Files to commit`` que enumera:\n",
        "* todos los archivos modificados,\n",
        "* todos los archivos que se han eliminado en el árbol de trabajo (localmente),\n",
        "* todos los archivos nuevos (es decir, archivos que aún no existen en el repositorio de Git),\n",
        "* todos los archivos cuyo nombre ha cambiado.\n",
        "\n",
        "Aquí están disponibles dos botones de alternancia que cambian el modo en el que se realizará la confirmación real:\n",
        "\n",
        "| Componente de interfaz de usuario | Nombre | Descripción\n",
        "| --- | --- | ---\n",
        "| ![](https://raw.githubusercontent.com/apache/netbeans-website/master/netbeans.apache.org/src/content/kb/docs/ide/images/changes-head-index.png) | **Cambios entre HEAD e Index** | Muestra una lista de archivos organizados.\n",
        "| ![](https://raw.githubusercontent.com/apache/netbeans-website/master/netbeans.apache.org/src/content/kb/docs/ide/images/changes-head-wt.png) | **Cambios entre HEAD y Working Tree** | Muestra una lista de archivos que ya están preparados o solo modificados / creados y aún no preparados.\n",
        "\n",
        "> **Nota**: Para especificar aquí si excluir archivos individuales de la confirmación, anule la selección de la casilla de verificación en la primera columna llamada ``Commit`` o haga clic con el botón derecho en una fila de archivo  y elija ``Exclude from Commit`` del menú emergente. Para mostrar el Visor de diferencias aquí, haga clic con el botón derecho en una fila de archivo y seleccione ``Diff`` en el menú emergente.\n",
        "\n",
        "1. Escriba un mensaje de confirmación en el área de texto ``Commit Message``. Alternativamente, puede realizar cualquiera de las siguientes acciones:\n",
        "\n",
        "  * haga clic en el icono ``Mensajes recientes`` (![](https://raw.githubusercontent.com/apache/netbeans-website/master/netbeans.apache.org/src/content/kb/docs/ide/images/recent-msgs.png)) ubicado en la esquina superior derecha para ver y seleccionar de una lista de mensajes que ha utilizado anteriormente,\n",
        "  * haga clic en el icono ``Cargar plantilla`` (![](https://raw.githubusercontent.com/apache/netbeans-website/master/netbeans.apache.org/src/content/kb/docs/ide/images/msg-template.png)) ubicado en la esquina superior derecha para seleccionar una plantilla de mensaje.\n",
        "\n",
        "  * Después de especificar acciones para archivos individuales, haga clic en ``Commit``.\n",
        "\n",
        "El IDE ejecuta la confirmación y almacena sus instantáneas en el repositorio. La barra de estado del IDE, ubicada en la parte inferior derecha de la interfaz, se muestra mientras se lleva a cabo la acción de confirmación. Tras una confirmación exitosa, las insignias de control de versiones desaparecen en las ventanas de ``Proyectos``, ``Archivos`` y ``Favoritos``, y la codificación de colores de los archivos confirmados vuelve a aparecer en negro."
      ]
    },
    {
      "cell_type": "markdown",
      "metadata": {
        "id": "lP_x5WlAQjhi"
      },
      "source": [
        "## Trabajar con ramas\n",
        "\n",
        "El soporte Git del IDE le permite mantener diferentes versiones de una base de código completa utilizando ramas.\n",
        "\n",
        "Al trabajar con sucursales en el IDE, se admiten las siguientes acciones:\n",
        "\n",
        "-   [Creando](#_creating_a_branch)\n",
        "\n",
        "-   [Checking out](#_checking_out)\n",
        "\n",
        "-   [Fusionando](#_merging)\n",
        "\n",
        "-   [Borrando](#_deleting)\n"
      ]
    },
    {
      "cell_type": "markdown",
      "metadata": {
        "id": "451M5vyBRHHx"
      },
      "source": [
        "### Creando una rama\n",
        "\n",
        "Para crear una sucursal local, si desea trabajar en una versión separada de su sistema de archivos con fines de estabilización o experimentación sin alterar el tronco principal, complete los siguientes pasos:\n",
        "\n",
        "1. En la ventana Proyectos o Archivos, elija un proyecto o carpeta del repositorio en el que desea crear la rama.\n",
        "2. En el menú principal, elija `Team` > `Branch/Tag` > `Create Branch`.\n",
        "\n",
        "NOTA: Como alternativa, haga clic con el botón derecho en el proyecto o carpeta con versión y seleccione `Git` > `Branch/Tag` > `Create Branch` en el menú emergente.\n",
        "\n",
        "Aparece el cuadro de diálogo **Crear rama**.\n",
        "\n",
        "![](https://raw.githubusercontent.com/apache/netbeans-website/master/netbeans.apache.org/src/content/kb/docs/ide/images/create-branch-small.png)\n",
        "\n",
        "1. En el campo Nombre de la rama, ingrese el nombre de la rama que se está creando.\n",
        "2. Escriba una confirmación específica del elemento seleccionado ingresando un ID de confirmación, una rama existente o un nombre de etiqueta en el campo versión o presione Seleccionar para ver la lista de confirmaciones mantenidas en el repositorio.\n",
        "3. (Opcional) En el cuadro de diálogo Seleccionar revisión, expanda Ramas y elija la rama requerida, especifique el ID de confirmación en la lista adyacente y presione Seleccionar.\n",
        "4. Revise la información de los campos Commit ID, Author, Message específica para la revisión desde la que se está ramificando y haga clic en Create.\n",
        "La rama se agrega a la carpeta ``Ramas / Local`` del repositorio de Git.\n",
        "\n",
        "![](https://raw.githubusercontent.com/apache/netbeans-website/master/netbeans.apache.org/src/content/kb/docs/ide/images/branch-added-small.png)"
      ]
    },
    {
      "cell_type": "markdown",
      "metadata": {
        "id": "wWvzGk3uRk4m"
      },
      "source": [
        "### Check Out\n",
        "\n",
        "Si necesita editar archivos en una rama que ya existe, puede consultar la rama para copiar los archivos a su Árbol de trabajo.\n",
        "\n",
        "Para verificar una revisión, realice lo siguiente:\n",
        "\n",
        "1. Elija `Team` > `Checkout` > `Checkout Revision` de pago en el menú principal.\n",
        "Aparece el cuadro de diálogo `Checkout Selected Revision`.\n",
        "\n",
        "![](https://raw.githubusercontent.com/apache/netbeans-website/master/netbeans.apache.org/src/content/kb/docs/ide/images/chkout-rev-small.png)\n",
        "\n",
        "1. Especifique la versión requerida ingresando un ID de confirmación, una rama existente o un nombre de etiqueta en el campo Revisión o presione Seleccionar para ver la lista de revisiones mantenidas en el repositorio.\n",
        "2. Omita si no presionó Seleccionar en el paso anterior. En el cuadro de diálogo Seleccionar revisión, expanda Ramas y elija la rama requerida, especifique el ID de confirmación en la lista adyacente si es necesario y presione Seleccionar.\n",
        "\n",
        "> **NOTA**: Si la revisión especificada se refiere a una confirmación válida que no está marcada con un nombre de rama, su HEAD se desconecta y ya no está en ninguna rama.\n",
        "\n",
        "1. Revise la información de los campos Commit ID, Author, Message específica de la revisión que se está extrayendo.\n",
        "2. Para crear una nueva rama a partir de la revisión extraída, elija la opción Pago como nueva sucursal e ingrese el nombre en el campo Nombre de la sucursal.\n",
        "3. Presione Checkout para verificar la revisión.\n",
        "Los archivos del árbol de trabajo y del índice se actualizan para que coincidan con la versión de la revisión especificada.\n",
        "\n",
        "> **NOTA**: Si desea cambiar sus archivos a una rama que ya existe (por ejemplo, a una confirmación que no está en la parte superior de una de sus ramas), puede usar el comando `Team` > `Branch/Tag` > `Switch to Branch`, especifique la rama en el cuadro de diálogo Cambiar a rama seleccionada, verifíquela como una nueva rama (opcionalmente) y presione Cambiar.\n",
        "\n"
      ]
    },
    {
      "cell_type": "markdown",
      "metadata": {
        "id": "z5Cnf3UIRN6o"
      },
      "source": [
        "### Fusionando\n",
        "\n",
        "Para transferir modificaciones de una revisión del repositorio al Árbol de trabajo, haga lo siguiente:\n",
        "\n",
        "1. Elija `Team` > `Branch/Tag` > `Merge Revision` en el menú principal.\n",
        "Aparece el cuadro de diálogo Fusionar revisión.\n",
        "\n",
        "![](https://raw.githubusercontent.com/apache/netbeans-website/master/netbeans.apache.org/src/content/kb/docs/ide/images/merge-small.png)\n",
        "\n",
        "1. Especifique la revisión requerida ingresando un ID de confirmación, una rama existente o un nombre de etiqueta en el campo Revisión o presione Seleccionar para ver la lista de revisiones mantenidas en el repositorio.\n",
        "2. Omita si no presionó Seleccionar en el paso anterior. En el cuadro de diálogo Seleccionar revisión, expanda Ramas y elija la rama requerida, especifique el ID de confirmación en la lista adyacente si es necesario y presione Seleccionar.\n",
        "3. Presione `Merge`.\n",
        "\n",
        "Se realiza una combinación de tres vías entre la rama actual, el contenido de su Árbol de trabajo y la rama especificada.\n",
        "\n",
        "> **NOTA**: Si ocurre un conflicto de combinación, el archivo en conflicto se marca con << insignias, una insignia roja >> para indicarlo.\n",
        "\n",
        "> **NOTA**: Después de fusionar, aún debe << confirmar, confirmar >> los cambios para que se agreguen al HEAD.\n",
        "\n"
      ]
    },
    {
      "cell_type": "markdown",
      "metadata": {
        "id": "MOanALdTRqrH"
      },
      "source": [
        "### Eliminando una rama\n",
        "\n",
        "Para eliminar una sucursal local innecesaria, complete los siguientes pasos:\n",
        "\n",
        "1. Elija `Team` > `Repository` > `Repository Browser` en el menú principal.\n",
        "2. En el navegador del repositorio de Git, elija la rama que desee eliminar.\n",
        "\n",
        "> **NOTA**: La rama debe estar inactiva, es decir, no verificada actualmente en el Árbol de trabajo.\n"
      ]
    },
    {
      "cell_type": "markdown",
      "metadata": {
        "id": "grc2Xfr_Rxfv"
      },
      "source": [
        "## Trabajando con repositorios remotos\n",
        "\n",
        "Cuando trabaja con otros desarrolladores, necesita compartir su trabajo, lo que implica buscar, enviar y extraer datos desde y hacia repositorios remotos alojados en Internet o en la red.\n",
        "\n",
        "-   [Fetching](#fetching)\n",
        "\n",
        "-   [Pulling](#pulling)\n",
        "\n",
        "-   [Pushing](#pushing)\n"
      ]
    },
    {
      "cell_type": "markdown",
      "metadata": {
        "id": "III3AoIvR2wQ"
      },
      "source": [
        "### Fetching\n",
        "\n",
        "La recuperación (`Fetching`) obtiene los cambios del repositorio remoto original que aún no tiene. Nunca cambia ninguna de sus ramas locales. La recuperación obtiene todas las ramas de repositorios remotos, que puede fusionar en su rama o simplemente inspeccionar en cualquier momento.\n",
        "\n",
        "Para obtener las actualizaciones, haga lo siguiente:\n",
        "\n",
        "1.  Elija `Team` > `Remote` > `Fetch`. Esto mostrará el asistente para Fetch del repositorio remoto\n",
        "\n",
        "![](https://raw.githubusercontent.com/apache/netbeans-website/master/netbeans.apache.org/src/content/kb/docs/ide/images/fetch-small.png)\n",
        "\n",
        "2.  En la página repositorio remoto del asistente, seleccione el repositorio configurado (para usar la ruta al repositorio configurado anteriormente) o la opción Especificar ubicación del repositorio Git (para definir la ruta a un repositorio remoto al que aún no se ha accedido, su nombre, configuración de inicio de sesión, contraseña y proxy si es necesario) y haga clic en Siguiente.\n",
        "\n",
        "3.  En la página de rama remota del asistente, elija la rama cuyos cambios quiere recuperar y haga click en `Finish`. Se creará una copia local de la rama remota. La rama remota será actualizada en `Branches` > `Remote` directorio en el navegador del repositorio de Git. A continuación, los cambios recuperados podrán ser fusionados con la rama local.\n"
      ]
    },
    {
      "cell_type": "markdown",
      "metadata": {
        "id": "PfpuTaQIR7vt"
      },
      "source": [
        "## Pulling\n",
        "\n",
        "Al extraer(pulling) algunas actualizaciones de un repositorio de Git remoto, los cambios se obtienen de él y se fusionan en el HEAD actual de su repositorio local. Para realizar la extracción, complete los siguientes pasos:\n",
        "\n",
        "1.  Elija `Team` > `Remote` > `Pull`. Se mostrará el asistente para hacer el Pull del Repositorio Remoto.\n",
        "\n",
        "![](https://raw.githubusercontent.com/apache/netbeans-website/master/netbeans.apache.org/src/content/kb/docs/ide/images/pull-small.png)\n",
        "\n",
        "2. En la página Repositorio remoto del asistente, seleccione el repositorio configurado (para usar la ruta al repositorio configurado anteriormente) o la opción Especificar ubicación del repositorio Git (para definir la ruta a un repositorio remoto al que aún no se ha accedido, su nombre y nombre de usuario y contraseña si es necesario) y haga clic en Siguiente.\n",
        "\n",
        "3. En la página Ramas remotas del asistente, elija las ramas de las que se extraerán los cambios y haga clic en Finalizar. Su repositorio local está sincronizado con el repositorio de origen.\n"
      ]
    },
    {
      "cell_type": "markdown",
      "metadata": {
        "id": "ztrXFh1MSFcG"
      },
      "source": [
        "Pushing\n",
        "-------\n",
        "\n",
        "Para incorporar los cambios de un repositorio local a un repositorio en el que tengas permisos, realice los siguientes cambios:\n",
        "\n",
        "> **Nota** Cuando vaya a llevar las confirmaciones locales a un repositorio y otros cambios hayan sido confirmados en dicho repositorio, será necesario hacer el PULL y MERGE de esos cambios antes.\n",
        "\n",
        "1.  Elija `Team` > `Remote` > `Push`. Se mostrará el asistente de PUSH a un repositorio remoto.\n",
        "\n",
        "![](https://raw.githubusercontent.com/apache/netbeans-website/master/netbeans.apache.org/src/content/kb/docs/ide/images/push-small.png)\n",
        "\n",
        "1. En la página Repositorio remoto del asistente, seleccione el Repositorio configurado (para usar la ruta al repositorio configurado antes) o la opción Especificar ubicación del repositorio de Git (para definir ruta a un repositorio remoto al que aún no se ha accedido, su nombre y nombre de usuario y contraseña si es necesario) y haga clic en Siguiente.\n",
        "\n",
        "2. En la página Seleccionar sucursales locales, elija las sucursales para enviar sus ediciones y haga clic en Siguiente.\n",
        "\n",
        "3. En la página Actualizar referencias locales, elija las ramas que desee actualizado en el directorio Remotes de su repositorio local y haga clic en Terminar. La rama de repositorio remoto especificada se actualiza con el último estado de su sucursal local.\n"
      ]
    },
    {
      "cell_type": "markdown",
      "metadata": {
        "id": "wyv5jcRFSMv2"
      },
      "source": [
        "## Resumen\n",
        "\n",
        "Este tutorial mostró cómo realizar tareas básicas de control de versiones en el IDE al guiarlo a través del flujo de trabajo estándar al usar el soporte Git del IDE. Demostró cómo configurar un proyecto versionado y realizar tareas básicas en archivos versionados mientras le presentaba algunas de las características específicas de Git incluidas en el IDE."
      ]
    }
  ]
}